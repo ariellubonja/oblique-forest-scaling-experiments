{
 "cells": [
  {
   "cell_type": "markdown",
   "id": "4dcbc36e",
   "metadata": {},
   "source": [
    "# MIGHT example on Wise-1 cancer data"
   ]
  },
  {
   "cell_type": "markdown",
   "id": "a0f1c657",
   "metadata": {},
   "source": [
    "## Import libraries and local functions"
   ]
  },
  {
   "cell_type": "code",
   "execution_count": 1,
   "id": "18d6d0e8",
   "metadata": {},
   "outputs": [
    {
     "name": "stdout",
     "output_type": "stream",
     "text": [
      "Requirement already satisfied: numpy in ./venv/lib/python3.11/site-packages (2.2.3)\n",
      "Collecting pandas\n",
      "  Using cached pandas-2.2.3-cp311-cp311-macosx_11_0_arm64.whl.metadata (89 kB)\n",
      "Collecting treeple\n",
      "  Downloading treeple-0.10.3-cp311-cp311-macosx_11_0_arm64.whl.metadata (9.0 kB)\n",
      "Requirement already satisfied: python-dateutil>=2.8.2 in ./venv/lib/python3.11/site-packages (from pandas) (2.9.0.post0)\n",
      "Collecting pytz>=2020.1 (from pandas)\n",
      "  Using cached pytz-2025.1-py2.py3-none-any.whl.metadata (22 kB)\n",
      "Collecting tzdata>=2022.7 (from pandas)\n",
      "  Using cached tzdata-2025.1-py2.py3-none-any.whl.metadata (1.4 kB)\n",
      "Requirement already satisfied: scipy>=1.5.0 in ./venv/lib/python3.11/site-packages (from treeple) (1.15.2)\n",
      "Collecting scikit-learn>=1.6.0 (from treeple)\n",
      "  Downloading scikit_learn-1.6.1-cp311-cp311-macosx_12_0_arm64.whl.metadata (31 kB)\n",
      "Requirement already satisfied: six>=1.5 in ./venv/lib/python3.11/site-packages (from python-dateutil>=2.8.2->pandas) (1.17.0)\n",
      "Requirement already satisfied: joblib>=1.2.0 in ./venv/lib/python3.11/site-packages (from scikit-learn>=1.6.0->treeple) (1.4.2)\n",
      "Requirement already satisfied: threadpoolctl>=3.1.0 in ./venv/lib/python3.11/site-packages (from scikit-learn>=1.6.0->treeple) (3.5.0)\n",
      "Using cached pandas-2.2.3-cp311-cp311-macosx_11_0_arm64.whl (11.3 MB)\n",
      "Downloading treeple-0.10.3-cp311-cp311-macosx_11_0_arm64.whl (2.2 MB)\n",
      "\u001b[2K   \u001b[90m━━━━━━━━━━━━━━━━━━━━━━━━━━━━━━━━━━━━━━━━\u001b[0m \u001b[32m2.2/2.2 MB\u001b[0m \u001b[31m495.8 kB/s\u001b[0m eta \u001b[36m0:00:00\u001b[0m00:01\u001b[0m00:01\u001b[0m\n",
      "\u001b[?25hUsing cached pytz-2025.1-py2.py3-none-any.whl (507 kB)\n",
      "Downloading scikit_learn-1.6.1-cp311-cp311-macosx_12_0_arm64.whl (11.1 MB)\n",
      "\u001b[2K   \u001b[90m━━━━━━━━━━━━━━━━━━━━━━━━━━━━━━━━━━━━━━━━\u001b[0m \u001b[32m11.1/11.1 MB\u001b[0m \u001b[31m543.1 kB/s\u001b[0m eta \u001b[36m0:00:00\u001b[0m00:01\u001b[0m00:01\u001b[0m\n",
      "\u001b[?25hUsing cached tzdata-2025.1-py2.py3-none-any.whl (346 kB)\n",
      "Installing collected packages: pytz, tzdata, scikit-learn, pandas, treeple\n",
      "  Attempting uninstall: scikit-learn\n",
      "    Found existing installation: scikit-learn 1.6.dev0\n",
      "    Uninstalling scikit-learn-1.6.dev0:\n",
      "      Successfully uninstalled scikit-learn-1.6.dev0\n",
      "Successfully installed pandas-2.2.3 pytz-2025.1 scikit-learn-1.6.1 treeple-0.10.3 tzdata-2025.1\n",
      "\n",
      "\u001b[1m[\u001b[0m\u001b[34;49mnotice\u001b[0m\u001b[1;39;49m]\u001b[0m\u001b[39;49m A new release of pip is available: \u001b[0m\u001b[31;49m24.0\u001b[0m\u001b[39;49m -> \u001b[0m\u001b[32;49m25.0.1\u001b[0m\n",
      "\u001b[1m[\u001b[0m\u001b[34;49mnotice\u001b[0m\u001b[1;39;49m]\u001b[0m\u001b[39;49m To update, run: \u001b[0m\u001b[32;49mpip install --upgrade pip\u001b[0m\n"
     ]
    }
   ],
   "source": [
    "!pip install numpy pandas treeple"
   ]
  },
  {
   "cell_type": "code",
   "execution_count": 2,
   "id": "4bf5a862",
   "metadata": {},
   "outputs": [],
   "source": [
    "# dependency libararies\n",
    "import warnings\n",
    "import pickle\n",
    "import time\n",
    "import numpy as np\n",
    "import pandas as pd\n",
    "\n",
    "# treeple functions\n",
    "from treeple.ensemble import HonestForestClassifier\n",
    "from treeple.tree import ObliqueDecisionTreeClassifier\n",
    "from treeple.stats import build_oob_forest\n",
    "\n",
    "warnings.filterwarnings(\"ignore\")"
   ]
  },
  {
   "cell_type": "code",
   "execution_count": null,
   "id": "4e25a6f8",
   "metadata": {},
   "outputs": [],
   "source": [
    "# local function for processing cancer data files\n",
    "def get_X_y(f, root=\"./data/\", cohort=[], verbose=False):\n",
    "    df = pd.read_csv(root + f)\n",
    "    non_features = [\n",
    "        \"Run\",\n",
    "        \"Sample\",\n",
    "        \"Library\",\n",
    "        \"Cancer Status\",\n",
    "        \"Tumor type\",\n",
    "        \"Stage\",\n",
    "        \"Library volume (uL)\",\n",
    "        \"Library Volume\",\n",
    "        \"UIDs Used\",\n",
    "        \"Experiment\",\n",
    "        \"P7\",\n",
    "        \"P7 Primer\",\n",
    "        \"MAF\",\n",
    "    ]\n",
    "    sample_ids = df[\"Sample\"]\n",
    "    # if sample is contains \"Run\" column, remove it\n",
    "    for i, sample_id in enumerate(sample_ids):\n",
    "        if \".\" in sample_id:\n",
    "            sample_ids[i] = sample_id.split(\".\")[1]\n",
    "    target = \"Cancer Status\"\n",
    "    y = df[target]\n",
    "    # convert the labels to 0 and 1\n",
    "    y = y.replace(\"Healthy\", 0)\n",
    "    y = y.replace(\"Cancer\", 1)\n",
    "    # remove the non-feature columns if they exist\n",
    "    for col in non_features:\n",
    "        if col in df.columns:\n",
    "            df = df.drop(col, axis=1)\n",
    "    nan_cols = df.isnull().all(axis=0).to_numpy()\n",
    "    # drop the columns with all nan values\n",
    "    df = df.loc[:, ~nan_cols]\n",
    "    # if cohort is not None, filter the samples\n",
    "    if cohort is not None:\n",
    "        # filter the rows with cohort1 samples\n",
    "        X = df[sample_ids.isin(cohort)]\n",
    "        y = y[sample_ids.isin(cohort)]\n",
    "    else:\n",
    "        X = df\n",
    "    if \"Wise\" in f:\n",
    "        # replace nans with zero\n",
    "        X = X.fillna(0)\n",
    "    # impute the nan values with the mean of the column\n",
    "    X = X.fillna(X.mean(axis=0))\n",
    "    # check if there are nan values\n",
    "    # nan_rows = X.isnull().any(axis=1)\n",
    "    nan_cols = X.isnull().all(axis=0)\n",
    "    # remove the columns with all nan values\n",
    "    X = X.loc[:, ~nan_cols]\n",
    "    if verbose:\n",
    "        if nan_cols.sum() > 0:\n",
    "            print(f)\n",
    "            print(f\"nan_cols: {nan_cols.sum()}\")\n",
    "            print(f\"X shape: {X.shape}, y shape: {y.shape}\")\n",
    "        else:\n",
    "            print(f)\n",
    "            print(f\"X shape: {X.shape}, y shape: {y.shape}\")\n",
    "    # X = X.dropna()\n",
    "    # y = y.drop(nan_rows.index)\n",
    "\n",
    "    return X, y"
   ]
  },
  {
   "cell_type": "markdown",
   "id": "dfd3398e",
   "metadata": {},
   "source": [
    "## Process the Wise-1 cancer data"
   ]
  },
  {
   "cell_type": "code",
   "execution_count": 5,
   "id": "90d48c53",
   "metadata": {},
   "outputs": [],
   "source": [
    "DIRECTORY = \"./\"\n",
    "N_JOBS = 4\n",
    "N_EST = 100 # 100_000\n",
    "\n",
    "# collect sample data\n",
    "sample_list_file = DIRECTORY + \"AllSamples.MIGHT.Passed.samples.txt\"\n",
    "sample_list = pd.read_csv(sample_list_file, sep=\" \", header=None)\n",
    "sample_list.columns = [\"library\", \"sample_id\", \"cohort\"]\n",
    "\n",
    "# get the sample ids for specific cohorts\n",
    "cohort1 = sample_list[sample_list[\"cohort\"] == \"Cohort1\"][\"sample_id\"]\n",
    "cohort2 = sample_list[sample_list[\"cohort\"] == \"Cohort2\"][\"sample_id\"]\n",
    "PON = sample_list[sample_list[\"cohort\"] == \"PanelOfNormals\"][\"sample_id\"]"
   ]
  },
  {
   "cell_type": "code",
   "execution_count": 6,
   "id": "91a73cd3",
   "metadata": {},
   "outputs": [],
   "source": [
    "# obtain the samples for cohort 1\n",
    "X, y = get_X_y(\"WiseCondorX.Wise-1.csv.gz\", root=DIRECTORY, cohort=cohort1)"
   ]
  },
  {
   "cell_type": "code",
   "execution_count": 7,
   "id": "59b94c86",
   "metadata": {},
   "outputs": [
    {
     "data": {
      "text/plain": [
       "(      1:1000001-2000000  1:3000001-4000000  1:4000001-5000000  \\\n",
       " 1              0.225947           1.416049          -2.179124   \n",
       " 2             -2.667007          -1.786801          -2.033666   \n",
       " 3             -1.710259           0.548870           2.259227   \n",
       " 4             -0.647132           0.947723           0.708668   \n",
       " 5             -0.556629          -0.265036          -1.387337   \n",
       " ...                 ...                ...                ...   \n",
       " 1977          -1.033230          -0.481271          -0.151797   \n",
       " 1978           0.334699           0.418391           0.259319   \n",
       " 1979          -1.158377          -0.151177           1.849532   \n",
       " 1980           0.346247           1.272352          -0.874088   \n",
       " 1981          -2.568370           0.739229           0.001433   \n",
       " \n",
       "       1:5000001-6000000  1:6000001-7000000  1:7000001-8000000  \\\n",
       " 1             -1.393526           0.713901           0.336313   \n",
       " 2             -2.059203          -2.588441          -2.345855   \n",
       " 3              0.714008          -0.278565           1.112995   \n",
       " 4              0.811206          -0.508150          -0.167733   \n",
       " 5             -1.844259          -0.905742           0.965660   \n",
       " ...                 ...                ...                ...   \n",
       " 1977          -0.176902           0.423089          -0.019923   \n",
       " 1978           1.484827           0.867817           0.939373   \n",
       " 1979           1.515782          -0.360697           1.158058   \n",
       " 1980           0.101569           0.781222          -0.050079   \n",
       " 1981           1.268063           1.305368           1.109202   \n",
       " \n",
       "       1:8000001-9000000  1:9000001-10000000  1:10000001-11000000  \\\n",
       " 1             -0.763986           -1.224847            -1.708686   \n",
       " 2             -3.386409           -2.780941            -3.046292   \n",
       " 3             -2.088380            0.357806            -1.199315   \n",
       " 4             -2.767388           -0.392646            -1.372222   \n",
       " 5             -0.768395           -0.751607            -0.280701   \n",
       " ...                 ...                 ...                  ...   \n",
       " 1977           1.071260            1.198875             2.252453   \n",
       " 1978          -0.128699            0.414652             0.462962   \n",
       " 1979          -0.250795           -0.955685            -0.958522   \n",
       " 1980           0.310163            0.229244             0.993387   \n",
       " 1981          -0.022311            0.031404             0.467462   \n",
       " \n",
       "       1:11000001-12000000  ...  22:41000001-42000000  22:42000001-43000000  \\\n",
       " 1               -0.836504  ...             -2.277886             -3.107799   \n",
       " 2               -2.365616  ...             -0.436190             -0.516465   \n",
       " 3               -1.025940  ...             -2.856830             -1.564071   \n",
       " 4               -0.477588  ...             -1.814195             -1.753127   \n",
       " 5               -0.353308  ...              0.080166             -0.263460   \n",
       " ...                   ...  ...                   ...                   ...   \n",
       " 1977            -0.973640  ...             -0.416030             -2.451604   \n",
       " 1978             0.199752  ...             -1.488927             -1.708386   \n",
       " 1979             0.288792  ...             -1.213230             -1.765456   \n",
       " 1980             0.659107  ...              1.295088             -0.010247   \n",
       " 1981            -0.268688  ...             -0.644693              0.146929   \n",
       " \n",
       "       22:43000001-44000000  22:44000001-45000000  22:45000001-46000000  \\\n",
       " 1                -0.177888              0.632694              0.347765   \n",
       " 2                 0.053793              0.526770             -0.148890   \n",
       " 3                 1.012228             -0.812884              0.465435   \n",
       " 4                -0.585163              0.044360             -0.212309   \n",
       " 5                -0.539129              0.110219             -0.589977   \n",
       " ...                    ...                   ...                   ...   \n",
       " 1977             -1.063102             -1.014154             -0.689774   \n",
       " 1978             -0.109986              0.660523             -0.221636   \n",
       " 1979              0.230405              0.566291              0.679678   \n",
       " 1980             -0.434851              0.114760             -0.577091   \n",
       " 1981             -0.037675              0.712325             -0.027390   \n",
       " \n",
       "       22:46000001-47000000  22:47000001-48000000  22:48000001-49000000  \\\n",
       " 1                 0.698799             -1.046475              0.172967   \n",
       " 2                -0.192907              0.061419              0.004255   \n",
       " 3                 0.524700             -0.009932              1.832320   \n",
       " 4                -1.301179             -0.393157              0.322889   \n",
       " 5                 1.020871             -1.405256             -2.409763   \n",
       " ...                    ...                   ...                   ...   \n",
       " 1977              0.645498              0.134860              1.610169   \n",
       " 1978              1.387316              0.065611              1.255156   \n",
       " 1979              0.109151              0.283998              2.243212   \n",
       " 1980              1.164536             -0.330623             -0.892519   \n",
       " 1981              1.058974             -1.243333              0.877240   \n",
       " \n",
       "       22:49000001-50000000  22:50000001-51000000  \n",
       " 1                 0.586075              0.559110  \n",
       " 2                 0.469211              0.329858  \n",
       " 3                 1.470528             -0.991249  \n",
       " 4                 0.569597              0.144277  \n",
       " 5                 1.455664              0.005321  \n",
       " ...                    ...                   ...  \n",
       " 1977             -0.725392             -0.755798  \n",
       " 1978              0.582676              0.215012  \n",
       " 1979              2.226712             -0.589125  \n",
       " 1980              0.526301              0.619987  \n",
       " 1981              0.414352             -1.063042  \n",
       " \n",
       " [352 rows x 2523 columns],\n",
       " 1       1\n",
       " 2       1\n",
       " 3       1\n",
       " 4       1\n",
       " 5       1\n",
       "        ..\n",
       " 1977    0\n",
       " 1978    0\n",
       " 1979    0\n",
       " 1980    0\n",
       " 1981    0\n",
       " Name: Cancer Status, Length: 352, dtype: int64)"
      ]
     },
     "execution_count": 7,
     "metadata": {},
     "output_type": "execute_result"
    }
   ],
   "source": [
    "X, y"
   ]
  },
  {
   "cell_type": "code",
   "execution_count": 8,
   "id": "3c9ee0cd",
   "metadata": {},
   "outputs": [
    {
     "data": {
      "text/plain": [
       "(352, 2523)"
      ]
     },
     "execution_count": 8,
     "metadata": {},
     "output_type": "execute_result"
    }
   ],
   "source": [
    "X.shape"
   ]
  },
  {
   "cell_type": "markdown",
   "id": "a1cca2a3",
   "metadata": {},
   "source": [
    "## Run axis-aligned MIGHT"
   ]
  },
  {
   "cell_type": "code",
   "execution_count": 11,
   "id": "ed384d24",
   "metadata": {},
   "outputs": [
    {
     "name": "stdout",
     "output_type": "stream",
     "text": [
      "1.1117550830003893\n"
     ]
    }
   ],
   "source": [
    "est = HonestForestClassifier(\n",
    "    n_estimators=N_EST,\n",
    "    max_samples=1.6,\n",
    "    max_features=0.3,\n",
    "    bootstrap=True,\n",
    "    stratify=True,\n",
    "    n_jobs=N_JOBS,\n",
    "    random_state=23,\n",
    "    honest_prior=\"ignore\",\n",
    "    honest_method='prune',\n",
    ")\n",
    "\n",
    "# record start time\n",
    "start_time = time.perf_counter()\n",
    "\n",
    "# obtain tree level posteriors\n",
    "fitted_est, tree_proba = build_oob_forest(est, X, y)\n",
    "\n",
    "# calculate fitting time\n",
    "end_time = time.perf_counter()\n",
    "time_dif = end_time-start_time\n",
    "\n",
    "print(time_dif)"
   ]
  },
  {
   "cell_type": "code",
   "execution_count": 12,
   "id": "c7e19307",
   "metadata": {},
   "outputs": [],
   "source": [
    "# obtain forest level posteriors\n",
    "forest_proba = np.nanmean(tree_proba, axis=0)"
   ]
  },
  {
   "cell_type": "markdown",
   "id": "d19b1a3f",
   "metadata": {},
   "source": [
    "## Or run oblique MIGHT"
   ]
  },
  {
   "cell_type": "code",
   "execution_count": 8,
   "id": "71d42307",
   "metadata": {},
   "outputs": [
    {
     "name": "stdout",
     "output_type": "stream",
     "text": [
      "10.611944000000001\n"
     ]
    }
   ],
   "source": [
    "est = HonestForestClassifier(\n",
    "    n_estimators=N_EST,\n",
    "    max_samples=1.6,\n",
    "    max_features=0.3,\n",
    "    bootstrap=True,\n",
    "    stratify=True,\n",
    "    n_jobs=N_JOBS,\n",
    "    random_state=23,\n",
    "    honest_prior=\"ignore\",\n",
    "    honest_method='prune',\n",
    "    tree_estimator=ObliqueDecisionTreeClassifier(),\n",
    ")\n",
    "\n",
    "# record start time\n",
    "start_time = time.perf_counter()\n",
    "\n",
    "# obtain tree level posteriors\n",
    "fitted_est, tree_proba = build_oob_forest(est, X, y)\n",
    "\n",
    "# calculate fitting time\n",
    "end_time = time.perf_counter()\n",
    "time_dif = end_time-start_time\n",
    "\n",
    "print(time_dif)"
   ]
  },
  {
   "cell_type": "code",
   "execution_count": 9,
   "id": "8436b0b8",
   "metadata": {},
   "outputs": [],
   "source": [
    "# obtain forest level posteriors\n",
    "forest_proba = np.nanmean(tree_proba, axis=0)"
   ]
  }
 ],
 "metadata": {
  "kernelspec": {
   "display_name": "venv",
   "language": "python",
   "name": "python3"
  },
  "language_info": {
   "codemirror_mode": {
    "name": "ipython",
    "version": 3
   },
   "file_extension": ".py",
   "mimetype": "text/x-python",
   "name": "python",
   "nbconvert_exporter": "python",
   "pygments_lexer": "ipython3",
   "version": "3.11.9"
  }
 },
 "nbformat": 4,
 "nbformat_minor": 5
}
